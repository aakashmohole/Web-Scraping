{
 "cells": [
  {
   "cell_type": "code",
   "execution_count": 1,
   "id": "6bcc0c57",
   "metadata": {},
   "outputs": [],
   "source": [
    "from autoscraper import AutoScraper"
   ]
  },
  {
   "cell_type": "code",
   "execution_count": 26,
   "id": "7063c063",
   "metadata": {},
   "outputs": [],
   "source": [
    "amazon_url = \"https://www.amazon.in/s?k=iphone\"\n",
    "\n",
    "wanted_list = [\"₹72,999\",\"Apple iPhone 15 (128 GB) - Black\"]"
   ]
  },
  {
   "cell_type": "code",
   "execution_count": 27,
   "id": "36b3e756",
   "metadata": {},
   "outputs": [],
   "source": [
    "scraper = AutoScraper()\n",
    "result = scraper.build(amazon_url,wanted_list)"
   ]
  },
  {
   "cell_type": "code",
   "execution_count": 28,
   "id": "da2c4abf",
   "metadata": {},
   "outputs": [
    {
     "name": "stdout",
     "output_type": "stream",
     "text": [
      "['₹72,999', '₹58,999', '₹52,090', '₹59,999', '₹52,999', '₹1,48,900', '₹82,999', '₹1,37,990', '₹51,200', '₹66,999', 'Apple iPhone 15 (128 GB) - Blue', 'Apple iPhone 14 (128 GB) - Blue', 'Apple iPhone 13 (128GB) - Blue', 'Apple iPhone 14 (128 GB) - Midnight', 'Apple iPhone 13 (128GB) - Starlight', 'Apple iPhone 14 (128 GB) - Purple', 'Apple iPhone 15 Pro Max (256 GB) - Blue Titanium', 'Apple iPhone 15 Plus (128 GB) - Black', 'Apple iPhone 15 (256 GB) - Blue', 'Apple iPhone 15 Pro (256 GB) - Natural Titanium', 'Apple iPhone 13 (128GB) - Midnight', 'Apple iPhone 14 Plus (128 GB) - Starlight', 'Apple iPhone 15 (256 GB) - Pink', 'Apple iPhone 15 (128 GB) - Black', 'Apple iPhone 15 (128 GB) - Green', 'Apple iPhone 14 (128 GB) - Starlight']\n"
     ]
    }
   ],
   "source": [
    "print(result)"
   ]
  },
  {
   "cell_type": "code",
   "execution_count": 29,
   "id": "09669a1a",
   "metadata": {},
   "outputs": [
    {
     "data": {
      "text/plain": [
       "{'rule_0vsb': ['₹52,090',\n",
       "  '₹52,999',\n",
       "  '₹72,999',\n",
       "  '₹58,999',\n",
       "  '₹58,999',\n",
       "  '₹51,200',\n",
       "  '₹58,999',\n",
       "  '₹66,999',\n",
       "  '₹59,999',\n",
       "  '₹82,999',\n",
       "  '₹51,200',\n",
       "  '₹82,999',\n",
       "  '₹1,37,990',\n",
       "  '₹72,999',\n",
       "  '₹1,48,900',\n",
       "  '₹67,999'],\n",
       " 'rule_2ohm': ['₹52,090',\n",
       "  '₹52,999',\n",
       "  '₹72,999',\n",
       "  '₹58,999',\n",
       "  '₹58,999',\n",
       "  '₹51,200',\n",
       "  '₹58,999',\n",
       "  '₹66,999',\n",
       "  '₹59,999',\n",
       "  '₹82,999',\n",
       "  '₹51,200',\n",
       "  '₹82,999',\n",
       "  '₹1,37,990',\n",
       "  '₹72,999',\n",
       "  '₹1,48,900',\n",
       "  '₹67,999'],\n",
       " 'rule_4i6o': ['₹52,090',\n",
       "  '₹52,999',\n",
       "  '₹72,999',\n",
       "  '₹58,999',\n",
       "  '₹58,999',\n",
       "  '₹51,200',\n",
       "  '₹58,999',\n",
       "  '₹66,999',\n",
       "  '₹59,999',\n",
       "  '₹82,999',\n",
       "  '₹51,200',\n",
       "  '₹82,999',\n",
       "  '₹1,37,990',\n",
       "  '₹72,999',\n",
       "  '₹1,48,900',\n",
       "  '₹67,999'],\n",
       " 'rule_8p3r': ['₹52,090',\n",
       "  '₹52,999',\n",
       "  '₹72,999',\n",
       "  '₹58,999',\n",
       "  '₹58,999',\n",
       "  '₹51,200',\n",
       "  '₹58,999',\n",
       "  '₹66,999',\n",
       "  '₹59,999',\n",
       "  '₹82,999',\n",
       "  '₹51,200',\n",
       "  '₹82,999',\n",
       "  '₹1,37,990',\n",
       "  '₹72,999',\n",
       "  '₹1,48,900',\n",
       "  '₹67,999'],\n",
       " 'rule_k3bk': ['₹52,090',\n",
       "  '₹52,999',\n",
       "  '₹72,999',\n",
       "  '₹58,999',\n",
       "  '₹58,999',\n",
       "  '₹51,200',\n",
       "  '₹58,999',\n",
       "  '₹66,999',\n",
       "  '₹59,999',\n",
       "  '₹82,999',\n",
       "  '₹51,200',\n",
       "  '₹82,999',\n",
       "  '₹1,37,990',\n",
       "  '₹72,999',\n",
       "  '₹1,48,900',\n",
       "  '₹67,999'],\n",
       " 'rule_19py': ['₹52,090',\n",
       "  '₹52,999',\n",
       "  '₹72,999',\n",
       "  '₹58,999',\n",
       "  '₹58,999',\n",
       "  '₹51,200',\n",
       "  '₹58,999',\n",
       "  '₹66,999',\n",
       "  '₹59,999',\n",
       "  '₹82,999',\n",
       "  '₹51,200',\n",
       "  '₹82,999',\n",
       "  '₹1,37,990',\n",
       "  '₹72,999',\n",
       "  '₹1,48,900',\n",
       "  '₹67,999'],\n",
       " 'rule_j0ij': ['₹51,200', '₹1,27,990'],\n",
       " 'rule_gpj5': ['₹51,200', '₹1,27,990'],\n",
       " 'rule_ziig': ['Apple iPhone 13 (128GB) - Blue',\n",
       "  'Apple iPhone 13 (128GB) - Starlight',\n",
       "  'Apple iPhone 15 (128 GB) - Blue',\n",
       "  'Apple iPhone 14 (128 GB) - Blue',\n",
       "  'Apple iPhone 14 (128 GB) - Purple',\n",
       "  'Apple iPhone 13 (128GB) - Midnight',\n",
       "  'Apple iPhone 14 (128 GB) - Starlight',\n",
       "  'Apple iPhone 14 Plus (128 GB) - Starlight',\n",
       "  'Apple iPhone 14 (128 GB) - Midnight',\n",
       "  'Apple iPhone 15 (256 GB) - Blue',\n",
       "  'Apple iPhone 13 (128GB) - Green',\n",
       "  'Apple iPhone 15 Plus (128 GB) - Black',\n",
       "  'Apple iPhone 15 Pro (256 GB) - Natural Titanium',\n",
       "  'Apple iPhone 15 (128 GB) - Black',\n",
       "  'Apple iPhone 15 Pro Max (256 GB) - Blue Titanium',\n",
       "  'Apple iPhone 14 Plus (128 GB) - Purple'],\n",
       " 'rule_yzqm': ['Apple iPhone 13 (128GB) - Blue',\n",
       "  'Apple iPhone 13 (128GB) - Starlight',\n",
       "  'Apple iPhone 15 (128 GB) - Blue',\n",
       "  'Apple iPhone 14 (128 GB) - Blue',\n",
       "  'Apple iPhone 14 (128 GB) - Purple',\n",
       "  'Apple iPhone 13 (128GB) - Midnight',\n",
       "  'Apple iPhone 14 (128 GB) - Starlight',\n",
       "  'Apple iPhone 14 Plus (128 GB) - Starlight',\n",
       "  'Apple iPhone 14 (128 GB) - Midnight',\n",
       "  'Apple iPhone 15 (256 GB) - Blue',\n",
       "  'Apple iPhone 13 (128GB) - Green',\n",
       "  'Apple iPhone 15 Plus (128 GB) - Black',\n",
       "  'Apple iPhone 15 Pro (256 GB) - Natural Titanium',\n",
       "  'Apple iPhone 15 (128 GB) - Black',\n",
       "  'Apple iPhone 15 Pro Max (256 GB) - Blue Titanium',\n",
       "  'Apple iPhone 14 Plus (128 GB) - Purple'],\n",
       " 'rule_7208': ['Apple iPhone 13 (128GB) - Midnight',\n",
       "  'Apple iPhone 15 Pro (128 GB) - Natural Titanium']}"
      ]
     },
     "execution_count": 29,
     "metadata": {},
     "output_type": "execute_result"
    }
   ],
   "source": [
    "scraper.get_result_similar(amazon_url, grouped=True)"
   ]
  },
  {
   "cell_type": "code",
   "execution_count": 30,
   "id": "0d611d4a",
   "metadata": {},
   "outputs": [],
   "source": [
    "scraper.set_rule_aliases({\"rule_ziig\":\"Title\", \"rule_0vsb\":\"Price\"})\n",
    "scraper.keep_rules([\"rule_ziig\",\"rule_0vsb\"])\n",
    "scraper.save(\"amazon_search\")"
   ]
  },
  {
   "cell_type": "code",
   "execution_count": 31,
   "id": "fb6f17cc",
   "metadata": {},
   "outputs": [],
   "source": [
    "results = scraper.get_result_similar(\"https://www.amazon.in/s?k=mi+phones\", group_by_alias=True)"
   ]
  },
  {
   "cell_type": "code",
   "execution_count": 33,
   "id": "e734a52d",
   "metadata": {},
   "outputs": [
    {
     "name": "stdout",
     "output_type": "stream",
     "text": [
      "['₹5,299', '₹14,999', '₹13,499', '₹7,299', '₹7,999', '₹5,299', '₹7,999', '₹17,999', '₹20,999', '₹10,499', '₹8,790', '₹23,999', '₹10,999', '₹10,999', '₹10,498', '₹13,490']\n"
     ]
    }
   ],
   "source": [
    "print(results['Price'])"
   ]
  },
  {
   "cell_type": "code",
   "execution_count": 34,
   "id": "46797b46",
   "metadata": {},
   "outputs": [
    {
     "name": "stdout",
     "output_type": "stream",
     "text": [
      "['Redmi A2 (Aqua Blue, 2GB RAM, 64GB Storage)', 'Amazon\\'s Choicefor \"mi phones\"', 'Redmi 12 5G Moonstone Silver 8GB RAM 256GB ROM', 'Redmi 12 5G Jade Black 6GB RAM 128GB ROM', 'Redmi A3 (Olive Green, 3GB RAM, 64GB Storage) | Premium Halo Design | 90Hz Display', 'Redmi 13C (Starshine Green, 4GB RAM, 128GB Storage) | Powered by 4G MediaTek Helio G85 | 90Hz Display | 50MP AI Triple Camera', 'Redmi A2 (Classic Black, 2GB RAM, 64GB Storage)', 'Redmi 13C (Stardust Black, 4GB RAM, 128GB Storage) | Powered by 4G Mediatek Helio G85 | 90Hz Display | 50MP AI Triple Camera', 'Redmi Note 13 5G (Arctic White, 6GB RAM, 128GB Storage) | MTK Dimensity 6080 5G | 7.6mm, Slimmest Note Ever', 'MI 10T 5G Lunar Silver, 6GB RAM, 128GB Storage - |Additional Exchange/No Cost EMI Offers', 'Redmi 12 (Jade Black,6GB RAM, 128GB Storage)', 'MI Redmi 9i Sport (Metallic Blue, 64 GB) (4 GB RAM)', 'Mi 10i 5G (Atlantic Blue, 8GB RAM, 128GB Storage)- 108MP Quad Camera | Snapdragon 750G Processor', 'MI Mi A2 (Gold, 4GB RAM, 64GB Storage)', 'Redmi 13C 5G (Starlight Black, 4GB RAM, 128GB Storage) | MediaTek Dimensity 6100+ 5G | 90Hz Display', 'Redmi 12 (Moonstone Silver,6GB RAM, 128GB Storage)', 'Xiaomi Mi 11 Lite (Jazz Blue, 6GB RAM, 128GB Storage)']\n"
     ]
    }
   ],
   "source": [
    "print(results['Title'])"
   ]
  },
  {
   "cell_type": "code",
   "execution_count": null,
   "id": "a33210c4",
   "metadata": {},
   "outputs": [],
   "source": []
  },
  {
   "cell_type": "code",
   "execution_count": null,
   "id": "ff4c25f6",
   "metadata": {},
   "outputs": [],
   "source": []
  },
  {
   "cell_type": "code",
   "execution_count": null,
   "id": "f6249770",
   "metadata": {},
   "outputs": [],
   "source": []
  }
 ],
 "metadata": {
  "kernelspec": {
   "display_name": "Python 3 (ipykernel)",
   "language": "python",
   "name": "python3"
  },
  "language_info": {
   "codemirror_mode": {
    "name": "ipython",
    "version": 3
   },
   "file_extension": ".py",
   "mimetype": "text/x-python",
   "name": "python",
   "nbconvert_exporter": "python",
   "pygments_lexer": "ipython3",
   "version": "3.11.5"
  }
 },
 "nbformat": 4,
 "nbformat_minor": 5
}
